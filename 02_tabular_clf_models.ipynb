{
 "cells": [
  {
   "cell_type": "markdown",
   "id": "d01e7896-9544-4186-870c-a7070c85cb36",
   "metadata": {},
   "source": [
    "# Библиотеки"
   ]
  },
  {
   "cell_type": "code",
   "execution_count": 2,
   "id": "f2ab4e0d-4a91-4dd4-8a5e-14af45cd8024",
   "metadata": {},
   "outputs": [],
   "source": [
    "import numpy as np\n",
    "import pandas as pd\n",
    "import joblib\n",
    "import nltk\n",
    "import category_encoders as ce\n",
    "import spacy\n",
    "import re\n",
    "import emoji\n",
    "import spacy\n",
    "import time\n",
    "from tqdm import tqdm"
   ]
  },
  {
   "cell_type": "markdown",
   "id": "644d90ce-bbf2-4494-b2c3-a8a8b6469437",
   "metadata": {},
   "source": [
    "# Данные"
   ]
  },
  {
   "cell_type": "code",
   "execution_count": 3,
   "id": "e6de93eb-1a84-4047-9595-520b6c28dbf1",
   "metadata": {},
   "outputs": [],
   "source": [
    "train_df = pd.read_csv(\"train_df.csv\")\n",
    "val_df = pd.read_csv(\"val_df.csv\")\n",
    "test_df = pd.read_csv(\"test_df.csv\")"
   ]
  },
  {
   "cell_type": "code",
   "execution_count": 4,
   "id": "2389371b-a4a3-44ac-a934-2f783218cf89",
   "metadata": {},
   "outputs": [],
   "source": [
    "bert_predictions_train = np.load(\"predictions_train.npy\")\n",
    "bert_predictions_val = np.load(\"predictions_val.npy\")\n",
    "bert_predictions_test = np.load(\"predictions_test.npy\")"
   ]
  },
  {
   "cell_type": "code",
   "execution_count": 5,
   "id": "c8822ac1-09af-4191-9ed6-3ac3a50dbf29",
   "metadata": {},
   "outputs": [],
   "source": [
    "bert_predictions_train_proba = np.load(\"predictions_train_proba.npy\")\n",
    "bert_predictions_val_proba = np.load(\"predictions_val_proba.npy\")\n",
    "bert_predictions_test_proba = np.load(\"predictions_test_proba.npy\")"
   ]
  },
  {
   "cell_type": "markdown",
   "id": "096ba6a8-171a-4fd3-9f24-0465a9db2b86",
   "metadata": {},
   "source": [
    "# Tfidf + svd"
   ]
  },
  {
   "cell_type": "code",
   "execution_count": 13,
   "id": "5790b501-9ce8-4c3e-b32a-1074ccc4c7f9",
   "metadata": {},
   "outputs": [],
   "source": [
    "nlp = spacy.load(\"en_core_web_sm\", disable=[\"ner\", \"parser\", \"textcat\"])\n",
    "if \"lemmatizer\" not in nlp.pipe_names:\n",
    "    nlp.add_pipe(\"lemmatizer\", name=\"lemmatizer\")\n",
    "\n",
    "URL_RE = re.compile(r'https?://\\S+|www\\.\\S+')\n",
    "USER_RE = re.compile(r'@\\w+')\n",
    "NUM_RE  = re.compile(r'\\b\\d+\\b')\n",
    "\n",
    "def spacy_tweet_analyzer(text: str):\n",
    "    text = text.lower()\n",
    "    text = URL_RE.sub(\" URL \", text)\n",
    "    text = USER_RE.sub(\" MENTION \", text)\n",
    "    text = NUM_RE.sub(\" NUM \", text)\n",
    "    text = emoji.demojize(text, language='en')                 \n",
    "    text = re.sub(r':([a-z0-9_+\\-]+):', r' EMOJI_\\1 ', text) \n",
    "    text = re.sub(r'#([a-z0-9_]+)', r' hashtag_\\1 ', text)     \n",
    "    text = re.sub(r'\\s+', ' ', text).strip()\n",
    "\n",
    "\n",
    "    doc = nlp(text)\n",
    "\n",
    "    tokens = []\n",
    "    for t in doc:\n",
    "        lemma = t.lemma_.lower()\n",
    "\n",
    "        if lemma in {\"mention\", \"url\", \"num\"}:\n",
    "            tokens.append(lemma)\n",
    "            continue\n",
    "        if lemma.startswith(\"hashtag_\") or lemma.startswith(\"emoji_\"):\n",
    "            tokens.append(lemma)\n",
    "            continue\n",
    "\n",
    "        if t.is_alpha and not t.is_stop and len(lemma) > 1:\n",
    "            tokens.append(lemma)\n",
    "\n",
    "    return tokens\n"
   ]
  },
  {
   "cell_type": "code",
   "execution_count": 11,
   "id": "075ec712-b5fd-48d5-ae3c-63e9730732b2",
   "metadata": {},
   "outputs": [],
   "source": [
    "from sklearn.decomposition import TruncatedSVD\n",
    "from sklearn.feature_extraction.text import TfidfVectorizer"
   ]
  },
  {
   "cell_type": "code",
   "execution_count": 14,
   "id": "90b515a5-e7b5-4f0a-a14a-5390de0fcf4d",
   "metadata": {},
   "outputs": [],
   "source": [
    "vectorizer = TfidfVectorizer(\n",
    "    max_features=20000,\n",
    "    sublinear_tf=True,\n",
    "    analyzer=spacy_tweet_analyzer,\n",
    "    ngram_range=(1, 2)\n",
    ")"
   ]
  },
  {
   "cell_type": "code",
   "execution_count": 17,
   "id": "606b8b77-913d-4e81-b5dd-fab089af9da3",
   "metadata": {},
   "outputs": [
    {
     "name": "stderr",
     "output_type": "stream",
     "text": [
      "C:\\conda\\Lib\\site-packages\\sklearn\\feature_extraction\\text.py:533: UserWarning: The parameter 'ngram_range' will not be used since 'analyzer' is callable'\n",
      "  warnings.warn(\n"
     ]
    }
   ],
   "source": [
    "tfidf_train = vectorizer.fit_transform(train_df['full_text'])"
   ]
  },
  {
   "cell_type": "code",
   "execution_count": 18,
   "id": "89d38b03-b16d-407f-abaa-580257b292ee",
   "metadata": {},
   "outputs": [],
   "source": [
    "svd = TruncatedSVD(n_components=400, random_state=42)\n",
    "svd_train = svd.fit_transform(tfidf_train)"
   ]
  },
  {
   "cell_type": "code",
   "execution_count": 19,
   "id": "556cda70-2aa9-43be-8d3c-df6113916cb6",
   "metadata": {},
   "outputs": [],
   "source": [
    "tfidf_val = vectorizer.transform(val_df['full_text'])\n",
    "svd_val = svd.transform(tfidf_val)"
   ]
  },
  {
   "cell_type": "code",
   "execution_count": 20,
   "id": "1b5803d7-9063-4920-b64f-a2e6e3bef5be",
   "metadata": {},
   "outputs": [],
   "source": [
    "tfidf_test = vectorizer.transform(test_df['full_text'])\n",
    "svd_test = svd.transform(tfidf_test)"
   ]
  },
  {
   "cell_type": "code",
   "execution_count": 40,
   "id": "f908301d-3d2b-4464-a2f7-d0480b09cf4b",
   "metadata": {},
   "outputs": [],
   "source": [
    "np.save(\"svd_train.npy\", svd_train)\n",
    "np.save(\"svd_val.npy\", svd_val)\n",
    "np.save(\"svd_test.npy\", svd_test)"
   ]
  },
  {
   "cell_type": "code",
   "execution_count": 8,
   "id": "57761e9f-f095-4f44-9de5-548f51016188",
   "metadata": {},
   "outputs": [],
   "source": [
    "svd_train = np.load(\"svd_train.npy\")\n",
    "svd_val = np.load(\"svd_val.npy\")\n",
    "svd_test = np.load(\"svd_test.npy\")"
   ]
  },
  {
   "cell_type": "code",
   "execution_count": 26,
   "id": "19b4ea24-213e-4617-9838-434ccfa8659a",
   "metadata": {},
   "outputs": [
    {
     "data": {
      "text/plain": [
       "['tfidf_test.joblib']"
      ]
     },
     "execution_count": 26,
     "metadata": {},
     "output_type": "execute_result"
    }
   ],
   "source": [
    "joblib.dump(vectorizer, \"vectorizer.joblib\")\n",
    "joblib.dump(tfidf_train, \"tfidf_train.joblib\")\n",
    "joblib.dump(tfidf_val, \"tfidf_val.joblib\")\n",
    "joblib.dump(tfidf_test, \"tfidf_test.joblib\")"
   ]
  },
  {
   "cell_type": "code",
   "execution_count": 15,
   "id": "8beaa6d5-4af7-453a-9270-c7a1d1111220",
   "metadata": {},
   "outputs": [],
   "source": [
    "vectorizer = joblib.load(\"vectorizer.joblib\")\n",
    "tfidf_train = joblib.load(\"tfidf_train.joblib\")\n",
    "tfidf_val = joblib.load(\"tfidf_val.joblib\")\n",
    "tfidf_test = joblib.load(\"tfidf_test.joblib\")"
   ]
  },
  {
   "cell_type": "markdown",
   "id": "0bd1e25c-f593-47ae-82db-0f6167b84eba",
   "metadata": {},
   "source": [
    "# Модели"
   ]
  },
  {
   "cell_type": "markdown",
   "id": "42cfe0bb-2a07-4d81-b958-73bdeda6a8ba",
   "metadata": {
    "jp-MarkdownHeadingCollapsed": true
   },
   "source": [
    "## CatBoostClassifier"
   ]
  },
  {
   "cell_type": "code",
   "execution_count": 21,
   "id": "5f8f589c-2934-455c-8f59-743b3c506f0b",
   "metadata": {},
   "outputs": [],
   "source": [
    "from hyperopt import hp, tpe, Trials, fmin, STATUS_OK\n",
    "from sklearn.datasets import make_classification\n",
    "from catboost import CatBoostClassifier\n",
    "from sklearn.model_selection import cross_val_score\n",
    "from sklearn.metrics import make_scorer, f1_score\n"
   ]
  },
  {
   "cell_type": "code",
   "execution_count": 18,
   "id": "9b29c3b6-d761-4caf-8804-28faf299e461",
   "metadata": {},
   "outputs": [],
   "source": [
    "label_map = {'Negative': 0, 'Neutral': 1, 'Positive': 2}"
   ]
  },
  {
   "cell_type": "code",
   "execution_count": 19,
   "id": "1e033ba4-5484-4b22-b8ae-56d721855cae",
   "metadata": {},
   "outputs": [],
   "source": [
    "y_train = train_df['type'].map(label_map).astype('int64')\n",
    "y_val   = val_df['type'].map(label_map).astype('int64')\n",
    "y_test   = test_df['type'].map(label_map).astype('int64')"
   ]
  },
  {
   "cell_type": "code",
   "execution_count": 39,
   "id": "2ec47a54-e6b3-4150-a2c7-a0d27672e5f1",
   "metadata": {},
   "outputs": [
    {
     "name": "stdout",
     "output_type": "stream",
     "text": [
      "\n",
      "Hyperopt завершен за 3703.20 секунд\n",
      "Лучшие параметры: {'iterations': 1000, 'depth': 5, 'learning_rate': 0.5708795132134128, 'l2_leaf_reg': 4.0, 'bagging_temperature': 0.0, 'verbose': False, 'allow_writing_files': False, 'random_seed': 42, 'od_type': 'Iter', 'od_wait': 100, 'thread_count': -1, 'loss_function': 'MultiClass'}\n",
      "Лучший CV score: 0.8678\n",
      "F1 на валидации: 0.8337\n"
     ]
    }
   ],
   "source": [
    "print(\"\\nЗапуск Hyperopt...\")\n",
    "start_time_hyperopt = time.time()\n",
    "\n",
    "space = {\n",
    "    'iterations': hp.quniform('iterations', 200, 1000, 100),\n",
    "    'learning_rate':hp.uniform('learning_rate', 0.01, 0.9),\n",
    "    'depth': hp.quniform('depth', 3, 5, 1),\n",
    "    'l2_leaf_reg': hp.quniform('l2_leaf_reg', 0.1, 10.1, 1),\n",
    "    'bagging_temperature': hp.quniform('bagging_temperature', 0.1, 1, 0.4)}\n",
    "\n",
    "\n",
    "def objective(params):\n",
    "    model_params = {\n",
    "        'iterations': int(params['iterations']),\n",
    "        'depth': int(params['depth']),\n",
    "        'learning_rate': params['learning_rate'],\n",
    "        'l2_leaf_reg': params['l2_leaf_reg'], \n",
    "        'bagging_temperature': params['bagging_temperature'],\n",
    "        'verbose': False,\n",
    "        'allow_writing_files': False,\n",
    "        'random_seed': 42,\n",
    "        'od_type': 'Iter',     \n",
    "        'od_wait': 100,\n",
    "        'thread_count': -1,\n",
    "        'loss_function': 'MultiClass'\n",
    "        \n",
    "    }\n",
    "\n",
    "    model = CatBoostClassifier(**model_params)\n",
    "\n",
    "    scores = cross_val_score(model, svd_train, y_train, cv=5, scoring=\"f1_macro\", n_jobs=-1, error_score='raise')\n",
    "\n",
    "    hyperopt_pbar.update(1)\n",
    "\n",
    "    return {'loss': -np.mean(scores), 'status': STATUS_OK, 'params': model_params}\n",
    "\n",
    "n_iter_hyperopt = 30\n",
    "hyperopt_pbar = tqdm(total=n_iter_hyperopt, desc=\"Hyperopt\")\n",
    "\n",
    "trials = Trials()\n",
    "best_hyperopt = fmin(\n",
    "    fn=objective,\n",
    "    space=space,\n",
    "    algo=tpe.suggest,\n",
    "    max_evals=n_iter_hyperopt,\n",
    "    trials=trials,\n",
    "    verbose=0\n",
    ")\n",
    "\n",
    "hyperopt_pbar.close()\n",
    "\n",
    "best_trial_idx = int(np.argmin([t['result']['loss'] for t in trials.trials]))\n",
    "best_params_hyperopt1 = trials.trials[best_trial_idx]['result']['params']\n",
    "best_score_hyperopt = -min([t['result']['loss'] for t in trials.trials])\n",
    "\n",
    "time_hyperopt = time.time() - start_time_hyperopt\n",
    "\n",
    "best_model_hyperopt = CatBoostClassifier(**best_params_hyperopt1)\n",
    "best_model_hyperopt.fit(\n",
    "    svd_train, y_train,\n",
    "    verbose=False  \n",
    ")\n",
    "\n",
    "y_test_pred_hyperopt = best_model_hyperopt.predict(svd_val)\n",
    "metrics_hyperopt = f1_score(y_val, y_test_pred_hyperopt, average='macro')\n",
    "\n",
    "print(f\"\\nHyperopt завершен за {time_hyperopt:.2f} секунд\")\n",
    "print(f\"Лучшие параметры: {best_params_hyperopt1}\")\n",
    "print(f\"Лучший CV score: {best_score_hyperopt:.4f}\")\n",
    "print(f\"F1 на валидации: {metrics_hyperopt:.4f}\")"
   ]
  },
  {
   "cell_type": "code",
   "execution_count": 22,
   "id": "e9913a19-9738-4b8f-b6ab-42a0676013a9",
   "metadata": {},
   "outputs": [],
   "source": [
    "best_model_hyperopt.save_model(\"catboost_model_clf.cbm\")\n"
   ]
  },
  {
   "cell_type": "markdown",
   "id": "a8116a97-571e-4bbc-9e7d-a4d9a7bf59e9",
   "metadata": {
    "jp-MarkdownHeadingCollapsed": true
   },
   "source": [
    "## XGBclf"
   ]
  },
  {
   "cell_type": "code",
   "execution_count": 28,
   "id": "9f98e5ca-3aca-4621-b9b3-406b3adf255d",
   "metadata": {},
   "outputs": [],
   "source": [
    "from xgboost import XGBClassifier"
   ]
  },
  {
   "cell_type": "code",
   "execution_count": 38,
   "id": "9543f74a-7eae-4ffa-8827-d89ca9b751a3",
   "metadata": {},
   "outputs": [
    {
     "name": "stdout",
     "output_type": "stream",
     "text": [
      "\n",
      "Hyperopt завершен за 3703.20 секунд\n",
      "Лучшие параметры: {'n_estimators': 1000, 'max_depth': 5, 'learning_rate': 0.2975111730313384, 'min_child_weight': 7, 'subsample': 0.7244308832253615, 'colsample_bytree': 0.5630216689866965, 'reg_alpha': 2.991233271938252, 'reg_lambda': 3.7506588341945646, 'random_state': 42, 'n_jobs': -1, 'verbosity': 0, 'tree_method': 'hist', 'objective': 'multi:softprob', 'eval_metric': 'mlogloss'}\n",
      "Лучший CV score (macro-F1): 0.8678\n",
      "F1 на тесте (macro): 0.8789\n"
     ]
    }
   ],
   "source": [
    "print(\"\\nЗапуск Hyperopt...\")\n",
    "start_time_hyperopt = time.time()\n",
    "\n",
    "space = {\n",
    "    'n_estimators':      hp.quniform('n_estimators', 200, 1000, 100),\n",
    "    'learning_rate':     hp.uniform('learning_rate', 0.02, 0.4),\n",
    "    'max_depth':         hp.choice('max_depth', [3, 4, 5]),\n",
    "    'min_child_weight':  hp.quniform('min_child_weight', 1, 10, 1),\n",
    "    'subsample':         hp.uniform('subsample', 0.5, 1.0),\n",
    "    'colsample_bytree':  hp.uniform('colsample_bytree', 0.5, 1.0),\n",
    "    'reg_alpha':         hp.uniform('reg_alpha', 0.0, 5.0),   \n",
    "    'reg_lambda':        hp.uniform('reg_lambda', 0.0, 20.0), \n",
    "}\n",
    "\n",
    "def objective(params):\n",
    "    model_params = {\n",
    "        'n_estimators':      int(params['n_estimators']),\n",
    "        'max_depth':         int(params['max_depth']),\n",
    "        'learning_rate':     float(params['learning_rate']),\n",
    "        'min_child_weight':  int(params['min_child_weight']),\n",
    "        'subsample':         float(params['subsample']),\n",
    "        'colsample_bytree':  float(params['colsample_bytree']),\n",
    "        'reg_alpha':         float(params['reg_alpha']),\n",
    "        'reg_lambda':        float(params['reg_lambda']),\n",
    "        'random_state':      42,\n",
    "        'n_jobs':            -1,\n",
    "        'verbosity':         0,             \n",
    "        'tree_method':       'hist',        \n",
    "        'objective': 'multi:softprob',\n",
    "        'eval_metric': 'mlogloss',\n",
    "    }\n",
    "\n",
    "    model = XGBClassifier(**model_params)\n",
    "\n",
    "    scores = cross_val_score(\n",
    "        model,\n",
    "        svd_train, y_train,\n",
    "        cv=5,\n",
    "        scoring=\"f1_macro\",      \n",
    "        n_jobs=-1,\n",
    "        error_score='raise'\n",
    "    )\n",
    "\n",
    "    hyperopt_pbar.update(1)\n",
    "    return {'loss': -float(np.mean(scores)), 'status': STATUS_OK, 'params': model_params}\n",
    "\n",
    "\n",
    "n_iter_hyperopt = 20  \n",
    "hyperopt_pbar = tqdm(total=n_iter_hyperopt, desc=\"Hyperopt\")\n",
    "\n",
    "trials = Trials()\n",
    "best_hyperopt = fmin(\n",
    "    fn=objective,\n",
    "    space=space,\n",
    "    algo=tpe.suggest,\n",
    "    max_evals=n_iter_hyperopt,\n",
    "    trials=trials,\n",
    "    verbose=0\n",
    ")\n",
    "\n",
    "hyperopt_pbar.close()\n",
    "\n",
    "best_trial_idx = int(np.argmin([t['result']['loss'] for t in trials.trials]))\n",
    "best_params_hyperopt3 = trials.trials[best_trial_idx]['result']['params']\n",
    "best_score_hyperopt = -min([t['result']['loss'] for t in trials.trials])\n",
    "time_hyperopt = time.time() - start_time_hyperopt\n",
    "\n",
    "best_model_xgb = XGBClassifier(**best_params_hyperopt3)\n",
    "best_model_xgb.fit(svd_train, y_train, verbose=False)\n",
    "\n",
    "y_test_pred_hyperopt = best_model_xgb.predict(svd_val)\n",
    "metrics_hyperopt = f1_score(\n",
    "    y_val, y_test_pred_hyperopt,\n",
    "    average='macro'  \n",
    ")\n",
    "\n",
    "print(f\"\\nHyperopt завершен за {time_hyperopt:.2f} секунд\")\n",
    "print(f\"Лучшие параметры: {best_params_hyperopt3}\")\n",
    "print(f\"Лучший CV score (macro-F1): {best_score_hyperopt:.4f}\")\n",
    "print(f\"F1 на тесте (macro): {metrics_hyperopt:.4f}\")"
   ]
  },
  {
   "cell_type": "code",
   "execution_count": 34,
   "id": "15d986de-1a01-4dc2-99d2-a895bea652ae",
   "metadata": {},
   "outputs": [],
   "source": [
    "best_model_xgb.save_model(\"xgb_model.json\")\n"
   ]
  },
  {
   "cell_type": "markdown",
   "id": "ccda5b14-e54c-4ff1-823c-4f26b832ac9d",
   "metadata": {},
   "source": [
    "## ComplementNB"
   ]
  },
  {
   "cell_type": "code",
   "execution_count": 22,
   "id": "a7e79520-33cf-4159-b973-dae5039adc71",
   "metadata": {},
   "outputs": [],
   "source": [
    "from sklearn.naive_bayes import ComplementNB, MultinomialNB\n"
   ]
  },
  {
   "cell_type": "code",
   "execution_count": 23,
   "id": "969184db-6796-4b6e-b39b-745b2be0c951",
   "metadata": {},
   "outputs": [
    {
     "data": {
      "text/plain": [
       "0.7614923165782019"
      ]
     },
     "execution_count": 23,
     "metadata": {},
     "output_type": "execute_result"
    }
   ],
   "source": [
    "clf_nb = ComplementNB(alpha=0.5)              \n",
    "clf_nb.fit(tfidf_train, y_train)\n",
    "f1_score(y_val, clf_nb.predict(tfidf_val), average='macro')"
   ]
  },
  {
   "cell_type": "markdown",
   "id": "01759985-edf9-4c4f-8832-71a879bfef4c",
   "metadata": {
    "jp-MarkdownHeadingCollapsed": true
   },
   "source": [
    "## LogReg"
   ]
  },
  {
   "cell_type": "code",
   "execution_count": 24,
   "id": "4790c044-6e23-420c-98f9-21a5d4707877",
   "metadata": {},
   "outputs": [],
   "source": [
    "from sklearn.linear_model import LogisticRegression"
   ]
  },
  {
   "cell_type": "code",
   "execution_count": 25,
   "id": "dff0cd1d-3195-4f15-8c33-630ced087a3b",
   "metadata": {},
   "outputs": [
    {
     "name": "stderr",
     "output_type": "stream",
     "text": [
      "C:\\conda\\Lib\\site-packages\\sklearn\\linear_model\\_logistic.py:1247: FutureWarning: 'multi_class' was deprecated in version 1.5 and will be removed in 1.7. From then on, it will always use 'multinomial'. Leave it to its default value to avoid this warning.\n",
      "  warnings.warn(\n"
     ]
    },
    {
     "data": {
      "text/plain": [
       "0.614787758341153"
      ]
     },
     "execution_count": 25,
     "metadata": {},
     "output_type": "execute_result"
    }
   ],
   "source": [
    "clf_lr = LogisticRegression(\n",
    "    multi_class='multinomial',   \n",
    "    solver='lbfgs',              \n",
    "    max_iter=2000,\n",
    "    n_jobs=-1,\n",
    "    C=2.0,                     \n",
    "    random_state=42\n",
    ")\n",
    "\n",
    "clf_lr.fit(svd_train, y_train)\n",
    "f1_score(y_val, clf_lr.predict(svd_val), average='macro')"
   ]
  },
  {
   "cell_type": "markdown",
   "id": "a614b744-4247-4769-b2c2-b9f1ee5dfb98",
   "metadata": {
    "jp-MarkdownHeadingCollapsed": true
   },
   "source": [
    "## Загрузка моделей"
   ]
  },
  {
   "cell_type": "code",
   "execution_count": 83,
   "id": "3b6029da-9831-4e40-8548-c5e77b84f877",
   "metadata": {},
   "outputs": [
    {
     "data": {
      "text/plain": [
       "<catboost.core.CatBoostClassifier at 0x2da92dfa990>"
      ]
     },
     "execution_count": 83,
     "metadata": {},
     "output_type": "execute_result"
    }
   ],
   "source": [
    "cat_clf = CatBoostClassifier()\n",
    "cat_clf.load_model(\"catboost_model_clf.cbm\")"
   ]
  },
  {
   "cell_type": "code",
   "execution_count": 84,
   "id": "a56d2a6d-0d95-4c38-8276-9f31cb1c278d",
   "metadata": {},
   "outputs": [],
   "source": [
    "xgb_clf = XGBClassifier()\n",
    "xgb_clf.load_model(\"xgb_model.json\")"
   ]
  },
  {
   "cell_type": "markdown",
   "id": "b0dac4ee-dc79-4b80-be9a-76b7fb19532f",
   "metadata": {
    "jp-MarkdownHeadingCollapsed": true
   },
   "source": [
    "## Мета модель (CatBoostClassifier, XGBClassifier, ComplementNB, LogReg, Bert)"
   ]
  },
  {
   "cell_type": "code",
   "execution_count": 30,
   "id": "b584f882-b60c-4bdc-9d05-36397af46cf8",
   "metadata": {},
   "outputs": [],
   "source": [
    "meta_model = LogisticRegression(\n",
    "    multi_class='multinomial',\n",
    "    solver='lbfgs',\n",
    "    max_iter=2000,\n",
    "    random_state=42\n",
    ")"
   ]
  },
  {
   "cell_type": "code",
   "execution_count": 35,
   "id": "ee6b42fc-a2ff-41a9-b0e9-9a0d0d1acced",
   "metadata": {},
   "outputs": [],
   "source": [
    "train_df_end = np.hstack([cat_clf.predict_proba(svd_train), xgb_clf.predict_proba(svd_train), clf_lr.predict_proba(svd_train)\n",
    "                          , clf_nb.predict_proba(tfidf_train)\n",
    "                          ,bert_predictions_train_proba])"
   ]
  },
  {
   "cell_type": "code",
   "execution_count": 37,
   "id": "bc8c5e17-df59-4e9c-bfe0-cd447cad9e48",
   "metadata": {},
   "outputs": [],
   "source": [
    "val_df_end = np.hstack([cat_clf.predict_proba(svd_val), xgb_clf.predict_proba(svd_val), clf_lr.predict_proba(svd_val)\n",
    "                          , clf_nb.predict_proba(tfidf_val)\n",
    "                          ,bert_predictions_val_proba])"
   ]
  },
  {
   "cell_type": "code",
   "execution_count": 38,
   "id": "a549467f-0c02-49ee-a75b-c0353e48e726",
   "metadata": {},
   "outputs": [],
   "source": [
    "test_df_end = np.hstack([cat_clf.predict_proba(svd_test), xgb_clf.predict_proba(svd_test), clf_lr.predict_proba(svd_test)\n",
    "                          , clf_nb.predict_proba(tfidf_test)\n",
    "                          ,bert_predictions_test_proba])"
   ]
  },
  {
   "cell_type": "code",
   "execution_count": 39,
   "id": "de638da0-9892-4e14-a7cf-2ef8b9501975",
   "metadata": {},
   "outputs": [
    {
     "name": "stderr",
     "output_type": "stream",
     "text": [
      "C:\\conda\\Lib\\site-packages\\sklearn\\linear_model\\_logistic.py:1247: FutureWarning: 'multi_class' was deprecated in version 1.5 and will be removed in 1.7. From then on, it will always use 'multinomial'. Leave it to its default value to avoid this warning.\n",
      "  warnings.warn(\n"
     ]
    },
    {
     "data": {
      "text/html": [
       "<style>#sk-container-id-1 {\n",
       "  /* Definition of color scheme common for light and dark mode */\n",
       "  --sklearn-color-text: #000;\n",
       "  --sklearn-color-text-muted: #666;\n",
       "  --sklearn-color-line: gray;\n",
       "  /* Definition of color scheme for unfitted estimators */\n",
       "  --sklearn-color-unfitted-level-0: #fff5e6;\n",
       "  --sklearn-color-unfitted-level-1: #f6e4d2;\n",
       "  --sklearn-color-unfitted-level-2: #ffe0b3;\n",
       "  --sklearn-color-unfitted-level-3: chocolate;\n",
       "  /* Definition of color scheme for fitted estimators */\n",
       "  --sklearn-color-fitted-level-0: #f0f8ff;\n",
       "  --sklearn-color-fitted-level-1: #d4ebff;\n",
       "  --sklearn-color-fitted-level-2: #b3dbfd;\n",
       "  --sklearn-color-fitted-level-3: cornflowerblue;\n",
       "\n",
       "  /* Specific color for light theme */\n",
       "  --sklearn-color-text-on-default-background: var(--sg-text-color, var(--theme-code-foreground, var(--jp-content-font-color1, black)));\n",
       "  --sklearn-color-background: var(--sg-background-color, var(--theme-background, var(--jp-layout-color0, white)));\n",
       "  --sklearn-color-border-box: var(--sg-text-color, var(--theme-code-foreground, var(--jp-content-font-color1, black)));\n",
       "  --sklearn-color-icon: #696969;\n",
       "\n",
       "  @media (prefers-color-scheme: dark) {\n",
       "    /* Redefinition of color scheme for dark theme */\n",
       "    --sklearn-color-text-on-default-background: var(--sg-text-color, var(--theme-code-foreground, var(--jp-content-font-color1, white)));\n",
       "    --sklearn-color-background: var(--sg-background-color, var(--theme-background, var(--jp-layout-color0, #111)));\n",
       "    --sklearn-color-border-box: var(--sg-text-color, var(--theme-code-foreground, var(--jp-content-font-color1, white)));\n",
       "    --sklearn-color-icon: #878787;\n",
       "  }\n",
       "}\n",
       "\n",
       "#sk-container-id-1 {\n",
       "  color: var(--sklearn-color-text);\n",
       "}\n",
       "\n",
       "#sk-container-id-1 pre {\n",
       "  padding: 0;\n",
       "}\n",
       "\n",
       "#sk-container-id-1 input.sk-hidden--visually {\n",
       "  border: 0;\n",
       "  clip: rect(1px 1px 1px 1px);\n",
       "  clip: rect(1px, 1px, 1px, 1px);\n",
       "  height: 1px;\n",
       "  margin: -1px;\n",
       "  overflow: hidden;\n",
       "  padding: 0;\n",
       "  position: absolute;\n",
       "  width: 1px;\n",
       "}\n",
       "\n",
       "#sk-container-id-1 div.sk-dashed-wrapped {\n",
       "  border: 1px dashed var(--sklearn-color-line);\n",
       "  margin: 0 0.4em 0.5em 0.4em;\n",
       "  box-sizing: border-box;\n",
       "  padding-bottom: 0.4em;\n",
       "  background-color: var(--sklearn-color-background);\n",
       "}\n",
       "\n",
       "#sk-container-id-1 div.sk-container {\n",
       "  /* jupyter's `normalize.less` sets `[hidden] { display: none; }`\n",
       "     but bootstrap.min.css set `[hidden] { display: none !important; }`\n",
       "     so we also need the `!important` here to be able to override the\n",
       "     default hidden behavior on the sphinx rendered scikit-learn.org.\n",
       "     See: https://github.com/scikit-learn/scikit-learn/issues/21755 */\n",
       "  display: inline-block !important;\n",
       "  position: relative;\n",
       "}\n",
       "\n",
       "#sk-container-id-1 div.sk-text-repr-fallback {\n",
       "  display: none;\n",
       "}\n",
       "\n",
       "div.sk-parallel-item,\n",
       "div.sk-serial,\n",
       "div.sk-item {\n",
       "  /* draw centered vertical line to link estimators */\n",
       "  background-image: linear-gradient(var(--sklearn-color-text-on-default-background), var(--sklearn-color-text-on-default-background));\n",
       "  background-size: 2px 100%;\n",
       "  background-repeat: no-repeat;\n",
       "  background-position: center center;\n",
       "}\n",
       "\n",
       "/* Parallel-specific style estimator block */\n",
       "\n",
       "#sk-container-id-1 div.sk-parallel-item::after {\n",
       "  content: \"\";\n",
       "  width: 100%;\n",
       "  border-bottom: 2px solid var(--sklearn-color-text-on-default-background);\n",
       "  flex-grow: 1;\n",
       "}\n",
       "\n",
       "#sk-container-id-1 div.sk-parallel {\n",
       "  display: flex;\n",
       "  align-items: stretch;\n",
       "  justify-content: center;\n",
       "  background-color: var(--sklearn-color-background);\n",
       "  position: relative;\n",
       "}\n",
       "\n",
       "#sk-container-id-1 div.sk-parallel-item {\n",
       "  display: flex;\n",
       "  flex-direction: column;\n",
       "}\n",
       "\n",
       "#sk-container-id-1 div.sk-parallel-item:first-child::after {\n",
       "  align-self: flex-end;\n",
       "  width: 50%;\n",
       "}\n",
       "\n",
       "#sk-container-id-1 div.sk-parallel-item:last-child::after {\n",
       "  align-self: flex-start;\n",
       "  width: 50%;\n",
       "}\n",
       "\n",
       "#sk-container-id-1 div.sk-parallel-item:only-child::after {\n",
       "  width: 0;\n",
       "}\n",
       "\n",
       "/* Serial-specific style estimator block */\n",
       "\n",
       "#sk-container-id-1 div.sk-serial {\n",
       "  display: flex;\n",
       "  flex-direction: column;\n",
       "  align-items: center;\n",
       "  background-color: var(--sklearn-color-background);\n",
       "  padding-right: 1em;\n",
       "  padding-left: 1em;\n",
       "}\n",
       "\n",
       "\n",
       "/* Toggleable style: style used for estimator/Pipeline/ColumnTransformer box that is\n",
       "clickable and can be expanded/collapsed.\n",
       "- Pipeline and ColumnTransformer use this feature and define the default style\n",
       "- Estimators will overwrite some part of the style using the `sk-estimator` class\n",
       "*/\n",
       "\n",
       "/* Pipeline and ColumnTransformer style (default) */\n",
       "\n",
       "#sk-container-id-1 div.sk-toggleable {\n",
       "  /* Default theme specific background. It is overwritten whether we have a\n",
       "  specific estimator or a Pipeline/ColumnTransformer */\n",
       "  background-color: var(--sklearn-color-background);\n",
       "}\n",
       "\n",
       "/* Toggleable label */\n",
       "#sk-container-id-1 label.sk-toggleable__label {\n",
       "  cursor: pointer;\n",
       "  display: flex;\n",
       "  width: 100%;\n",
       "  margin-bottom: 0;\n",
       "  padding: 0.5em;\n",
       "  box-sizing: border-box;\n",
       "  text-align: center;\n",
       "  align-items: start;\n",
       "  justify-content: space-between;\n",
       "  gap: 0.5em;\n",
       "}\n",
       "\n",
       "#sk-container-id-1 label.sk-toggleable__label .caption {\n",
       "  font-size: 0.6rem;\n",
       "  font-weight: lighter;\n",
       "  color: var(--sklearn-color-text-muted);\n",
       "}\n",
       "\n",
       "#sk-container-id-1 label.sk-toggleable__label-arrow:before {\n",
       "  /* Arrow on the left of the label */\n",
       "  content: \"▸\";\n",
       "  float: left;\n",
       "  margin-right: 0.25em;\n",
       "  color: var(--sklearn-color-icon);\n",
       "}\n",
       "\n",
       "#sk-container-id-1 label.sk-toggleable__label-arrow:hover:before {\n",
       "  color: var(--sklearn-color-text);\n",
       "}\n",
       "\n",
       "/* Toggleable content - dropdown */\n",
       "\n",
       "#sk-container-id-1 div.sk-toggleable__content {\n",
       "  max-height: 0;\n",
       "  max-width: 0;\n",
       "  overflow: hidden;\n",
       "  text-align: left;\n",
       "  /* unfitted */\n",
       "  background-color: var(--sklearn-color-unfitted-level-0);\n",
       "}\n",
       "\n",
       "#sk-container-id-1 div.sk-toggleable__content.fitted {\n",
       "  /* fitted */\n",
       "  background-color: var(--sklearn-color-fitted-level-0);\n",
       "}\n",
       "\n",
       "#sk-container-id-1 div.sk-toggleable__content pre {\n",
       "  margin: 0.2em;\n",
       "  border-radius: 0.25em;\n",
       "  color: var(--sklearn-color-text);\n",
       "  /* unfitted */\n",
       "  background-color: var(--sklearn-color-unfitted-level-0);\n",
       "}\n",
       "\n",
       "#sk-container-id-1 div.sk-toggleable__content.fitted pre {\n",
       "  /* unfitted */\n",
       "  background-color: var(--sklearn-color-fitted-level-0);\n",
       "}\n",
       "\n",
       "#sk-container-id-1 input.sk-toggleable__control:checked~div.sk-toggleable__content {\n",
       "  /* Expand drop-down */\n",
       "  max-height: 200px;\n",
       "  max-width: 100%;\n",
       "  overflow: auto;\n",
       "}\n",
       "\n",
       "#sk-container-id-1 input.sk-toggleable__control:checked~label.sk-toggleable__label-arrow:before {\n",
       "  content: \"▾\";\n",
       "}\n",
       "\n",
       "/* Pipeline/ColumnTransformer-specific style */\n",
       "\n",
       "#sk-container-id-1 div.sk-label input.sk-toggleable__control:checked~label.sk-toggleable__label {\n",
       "  color: var(--sklearn-color-text);\n",
       "  background-color: var(--sklearn-color-unfitted-level-2);\n",
       "}\n",
       "\n",
       "#sk-container-id-1 div.sk-label.fitted input.sk-toggleable__control:checked~label.sk-toggleable__label {\n",
       "  background-color: var(--sklearn-color-fitted-level-2);\n",
       "}\n",
       "\n",
       "/* Estimator-specific style */\n",
       "\n",
       "/* Colorize estimator box */\n",
       "#sk-container-id-1 div.sk-estimator input.sk-toggleable__control:checked~label.sk-toggleable__label {\n",
       "  /* unfitted */\n",
       "  background-color: var(--sklearn-color-unfitted-level-2);\n",
       "}\n",
       "\n",
       "#sk-container-id-1 div.sk-estimator.fitted input.sk-toggleable__control:checked~label.sk-toggleable__label {\n",
       "  /* fitted */\n",
       "  background-color: var(--sklearn-color-fitted-level-2);\n",
       "}\n",
       "\n",
       "#sk-container-id-1 div.sk-label label.sk-toggleable__label,\n",
       "#sk-container-id-1 div.sk-label label {\n",
       "  /* The background is the default theme color */\n",
       "  color: var(--sklearn-color-text-on-default-background);\n",
       "}\n",
       "\n",
       "/* On hover, darken the color of the background */\n",
       "#sk-container-id-1 div.sk-label:hover label.sk-toggleable__label {\n",
       "  color: var(--sklearn-color-text);\n",
       "  background-color: var(--sklearn-color-unfitted-level-2);\n",
       "}\n",
       "\n",
       "/* Label box, darken color on hover, fitted */\n",
       "#sk-container-id-1 div.sk-label.fitted:hover label.sk-toggleable__label.fitted {\n",
       "  color: var(--sklearn-color-text);\n",
       "  background-color: var(--sklearn-color-fitted-level-2);\n",
       "}\n",
       "\n",
       "/* Estimator label */\n",
       "\n",
       "#sk-container-id-1 div.sk-label label {\n",
       "  font-family: monospace;\n",
       "  font-weight: bold;\n",
       "  display: inline-block;\n",
       "  line-height: 1.2em;\n",
       "}\n",
       "\n",
       "#sk-container-id-1 div.sk-label-container {\n",
       "  text-align: center;\n",
       "}\n",
       "\n",
       "/* Estimator-specific */\n",
       "#sk-container-id-1 div.sk-estimator {\n",
       "  font-family: monospace;\n",
       "  border: 1px dotted var(--sklearn-color-border-box);\n",
       "  border-radius: 0.25em;\n",
       "  box-sizing: border-box;\n",
       "  margin-bottom: 0.5em;\n",
       "  /* unfitted */\n",
       "  background-color: var(--sklearn-color-unfitted-level-0);\n",
       "}\n",
       "\n",
       "#sk-container-id-1 div.sk-estimator.fitted {\n",
       "  /* fitted */\n",
       "  background-color: var(--sklearn-color-fitted-level-0);\n",
       "}\n",
       "\n",
       "/* on hover */\n",
       "#sk-container-id-1 div.sk-estimator:hover {\n",
       "  /* unfitted */\n",
       "  background-color: var(--sklearn-color-unfitted-level-2);\n",
       "}\n",
       "\n",
       "#sk-container-id-1 div.sk-estimator.fitted:hover {\n",
       "  /* fitted */\n",
       "  background-color: var(--sklearn-color-fitted-level-2);\n",
       "}\n",
       "\n",
       "/* Specification for estimator info (e.g. \"i\" and \"?\") */\n",
       "\n",
       "/* Common style for \"i\" and \"?\" */\n",
       "\n",
       ".sk-estimator-doc-link,\n",
       "a:link.sk-estimator-doc-link,\n",
       "a:visited.sk-estimator-doc-link {\n",
       "  float: right;\n",
       "  font-size: smaller;\n",
       "  line-height: 1em;\n",
       "  font-family: monospace;\n",
       "  background-color: var(--sklearn-color-background);\n",
       "  border-radius: 1em;\n",
       "  height: 1em;\n",
       "  width: 1em;\n",
       "  text-decoration: none !important;\n",
       "  margin-left: 0.5em;\n",
       "  text-align: center;\n",
       "  /* unfitted */\n",
       "  border: var(--sklearn-color-unfitted-level-1) 1pt solid;\n",
       "  color: var(--sklearn-color-unfitted-level-1);\n",
       "}\n",
       "\n",
       ".sk-estimator-doc-link.fitted,\n",
       "a:link.sk-estimator-doc-link.fitted,\n",
       "a:visited.sk-estimator-doc-link.fitted {\n",
       "  /* fitted */\n",
       "  border: var(--sklearn-color-fitted-level-1) 1pt solid;\n",
       "  color: var(--sklearn-color-fitted-level-1);\n",
       "}\n",
       "\n",
       "/* On hover */\n",
       "div.sk-estimator:hover .sk-estimator-doc-link:hover,\n",
       ".sk-estimator-doc-link:hover,\n",
       "div.sk-label-container:hover .sk-estimator-doc-link:hover,\n",
       ".sk-estimator-doc-link:hover {\n",
       "  /* unfitted */\n",
       "  background-color: var(--sklearn-color-unfitted-level-3);\n",
       "  color: var(--sklearn-color-background);\n",
       "  text-decoration: none;\n",
       "}\n",
       "\n",
       "div.sk-estimator.fitted:hover .sk-estimator-doc-link.fitted:hover,\n",
       ".sk-estimator-doc-link.fitted:hover,\n",
       "div.sk-label-container:hover .sk-estimator-doc-link.fitted:hover,\n",
       ".sk-estimator-doc-link.fitted:hover {\n",
       "  /* fitted */\n",
       "  background-color: var(--sklearn-color-fitted-level-3);\n",
       "  color: var(--sklearn-color-background);\n",
       "  text-decoration: none;\n",
       "}\n",
       "\n",
       "/* Span, style for the box shown on hovering the info icon */\n",
       ".sk-estimator-doc-link span {\n",
       "  display: none;\n",
       "  z-index: 9999;\n",
       "  position: relative;\n",
       "  font-weight: normal;\n",
       "  right: .2ex;\n",
       "  padding: .5ex;\n",
       "  margin: .5ex;\n",
       "  width: min-content;\n",
       "  min-width: 20ex;\n",
       "  max-width: 50ex;\n",
       "  color: var(--sklearn-color-text);\n",
       "  box-shadow: 2pt 2pt 4pt #999;\n",
       "  /* unfitted */\n",
       "  background: var(--sklearn-color-unfitted-level-0);\n",
       "  border: .5pt solid var(--sklearn-color-unfitted-level-3);\n",
       "}\n",
       "\n",
       ".sk-estimator-doc-link.fitted span {\n",
       "  /* fitted */\n",
       "  background: var(--sklearn-color-fitted-level-0);\n",
       "  border: var(--sklearn-color-fitted-level-3);\n",
       "}\n",
       "\n",
       ".sk-estimator-doc-link:hover span {\n",
       "  display: block;\n",
       "}\n",
       "\n",
       "/* \"?\"-specific style due to the `<a>` HTML tag */\n",
       "\n",
       "#sk-container-id-1 a.estimator_doc_link {\n",
       "  float: right;\n",
       "  font-size: 1rem;\n",
       "  line-height: 1em;\n",
       "  font-family: monospace;\n",
       "  background-color: var(--sklearn-color-background);\n",
       "  border-radius: 1rem;\n",
       "  height: 1rem;\n",
       "  width: 1rem;\n",
       "  text-decoration: none;\n",
       "  /* unfitted */\n",
       "  color: var(--sklearn-color-unfitted-level-1);\n",
       "  border: var(--sklearn-color-unfitted-level-1) 1pt solid;\n",
       "}\n",
       "\n",
       "#sk-container-id-1 a.estimator_doc_link.fitted {\n",
       "  /* fitted */\n",
       "  border: var(--sklearn-color-fitted-level-1) 1pt solid;\n",
       "  color: var(--sklearn-color-fitted-level-1);\n",
       "}\n",
       "\n",
       "/* On hover */\n",
       "#sk-container-id-1 a.estimator_doc_link:hover {\n",
       "  /* unfitted */\n",
       "  background-color: var(--sklearn-color-unfitted-level-3);\n",
       "  color: var(--sklearn-color-background);\n",
       "  text-decoration: none;\n",
       "}\n",
       "\n",
       "#sk-container-id-1 a.estimator_doc_link.fitted:hover {\n",
       "  /* fitted */\n",
       "  background-color: var(--sklearn-color-fitted-level-3);\n",
       "}\n",
       "</style><div id=\"sk-container-id-1\" class=\"sk-top-container\"><div class=\"sk-text-repr-fallback\"><pre>LogisticRegression(max_iter=2000, multi_class=&#x27;multinomial&#x27;, random_state=42)</pre><b>In a Jupyter environment, please rerun this cell to show the HTML representation or trust the notebook. <br />On GitHub, the HTML representation is unable to render, please try loading this page with nbviewer.org.</b></div><div class=\"sk-container\" hidden><div class=\"sk-item\"><div class=\"sk-estimator fitted sk-toggleable\"><input class=\"sk-toggleable__control sk-hidden--visually\" id=\"sk-estimator-id-1\" type=\"checkbox\" checked><label for=\"sk-estimator-id-1\" class=\"sk-toggleable__label fitted sk-toggleable__label-arrow\"><div><div>LogisticRegression</div></div><div><a class=\"sk-estimator-doc-link fitted\" rel=\"noreferrer\" target=\"_blank\" href=\"https://scikit-learn.org/1.6/modules/generated/sklearn.linear_model.LogisticRegression.html\">?<span>Documentation for LogisticRegression</span></a><span class=\"sk-estimator-doc-link fitted\">i<span>Fitted</span></span></div></label><div class=\"sk-toggleable__content fitted\"><pre>LogisticRegression(max_iter=2000, multi_class=&#x27;multinomial&#x27;, random_state=42)</pre></div> </div></div></div></div>"
      ],
      "text/plain": [
       "LogisticRegression(max_iter=2000, multi_class='multinomial', random_state=42)"
      ]
     },
     "execution_count": 39,
     "metadata": {},
     "output_type": "execute_result"
    }
   ],
   "source": [
    "meta_model.fit(train_df_end, y_train)"
   ]
  },
  {
   "cell_type": "code",
   "execution_count": 40,
   "id": "ef97ad4b-c2f8-42e3-afc9-913d55a42da0",
   "metadata": {},
   "outputs": [
    {
     "data": {
      "text/plain": [
       "0.9434812237285194"
      ]
     },
     "execution_count": 40,
     "metadata": {},
     "output_type": "execute_result"
    }
   ],
   "source": [
    "f1_score(y_val, meta_model.predict(val_df_end), average='macro')"
   ]
  },
  {
   "cell_type": "code",
   "execution_count": 41,
   "id": "af7bb98a-bcf3-492a-a389-cbdcf3df5a3a",
   "metadata": {},
   "outputs": [
    {
     "data": {
      "text/plain": [
       "0.9858924186351287"
      ]
     },
     "execution_count": 41,
     "metadata": {},
     "output_type": "execute_result"
    }
   ],
   "source": [
    "f1_score(y_test, meta_model.predict(test_df_end), average='macro')"
   ]
  },
  {
   "cell_type": "markdown",
   "id": "55301514-8014-425d-94b3-daedf6f0d1e4",
   "metadata": {},
   "source": [
    "## Стакинг (CatBoostClassifier, XGBClassifier, ComplementNB, LogReg)"
   ]
  },
  {
   "cell_type": "code",
   "execution_count": 67,
   "id": "883a5d18-b44b-40c6-be7b-e59e52cd2e64",
   "metadata": {},
   "outputs": [],
   "source": [
    "from sklearn.model_selection import StratifiedKFold"
   ]
  },
  {
   "cell_type": "code",
   "execution_count": 68,
   "id": "04f2cf31-8c8c-4e14-8ae2-4ee4bb7314d5",
   "metadata": {},
   "outputs": [],
   "source": [
    "best_params_cat = {'iterations': 1000, 'depth': 5, 'learning_rate': 0.5708795132134128, 'l2_leaf_reg': 4.0, 'bagging_temperature': 0.0, 'verbose': False, 'allow_writing_files': False, 'random_seed': 42, 'od_type': 'Iter', 'od_wait': 100, 'thread_count': -1, 'loss_function': 'MultiClass'}"
   ]
  },
  {
   "cell_type": "code",
   "execution_count": 69,
   "id": "165e06bd-f3d5-4511-bfdd-be4b0cf6eefa",
   "metadata": {},
   "outputs": [],
   "source": [
    "best_params_xgb =  {'n_estimators': 1000, 'max_depth': 5, 'learning_rate': 0.2975111730313384, 'min_child_weight': 7, 'subsample': 0.7244308832253615, 'colsample_bytree': 0.5630216689866965, 'reg_alpha': 2.991233271938252, 'reg_lambda': 3.7506588341945646, 'random_state': 42, 'n_jobs': -1, 'verbosity': 0, 'tree_method': 'hist', 'objective': 'multi:softprob', 'eval_metric': 'mlogloss'}"
   ]
  },
  {
   "cell_type": "code",
   "execution_count": 70,
   "id": "50c7a24e-160d-4eaa-ba95-e159a1799b0e",
   "metadata": {},
   "outputs": [],
   "source": [
    "model_sta = [CatBoostClassifier(**best_params_cat),\n",
    "             XGBClassifier(**best_params_xgb),\n",
    "             LogisticRegression(multi_class='multinomial',solver='lbfgs',max_iter=2000,random_state=42)]"
   ]
  },
  {
   "cell_type": "code",
   "execution_count": 71,
   "id": "ed7f015d-198a-44f1-ad6d-55fe78bfe626",
   "metadata": {},
   "outputs": [
    {
     "name": "stderr",
     "output_type": "stream",
     "text": [
      "C:\\conda\\Lib\\site-packages\\sklearn\\feature_extraction\\text.py:533: UserWarning: The parameter 'ngram_range' will not be used since 'analyzer' is callable'\n",
      "  warnings.warn(\n",
      "C:\\conda\\Lib\\site-packages\\sklearn\\linear_model\\_logistic.py:1247: FutureWarning: 'multi_class' was deprecated in version 1.5 and will be removed in 1.7. From then on, it will always use 'multinomial'. Leave it to its default value to avoid this warning.\n",
      "  warnings.warn(\n",
      "C:\\conda\\Lib\\site-packages\\sklearn\\feature_extraction\\text.py:533: UserWarning: The parameter 'ngram_range' will not be used since 'analyzer' is callable'\n",
      "  warnings.warn(\n",
      "C:\\conda\\Lib\\site-packages\\sklearn\\linear_model\\_logistic.py:1247: FutureWarning: 'multi_class' was deprecated in version 1.5 and will be removed in 1.7. From then on, it will always use 'multinomial'. Leave it to its default value to avoid this warning.\n",
      "  warnings.warn(\n",
      "C:\\conda\\Lib\\site-packages\\sklearn\\feature_extraction\\text.py:533: UserWarning: The parameter 'ngram_range' will not be used since 'analyzer' is callable'\n",
      "  warnings.warn(\n",
      "C:\\conda\\Lib\\site-packages\\sklearn\\linear_model\\_logistic.py:1247: FutureWarning: 'multi_class' was deprecated in version 1.5 and will be removed in 1.7. From then on, it will always use 'multinomial'. Leave it to its default value to avoid this warning.\n",
      "  warnings.warn(\n",
      "C:\\conda\\Lib\\site-packages\\sklearn\\feature_extraction\\text.py:533: UserWarning: The parameter 'ngram_range' will not be used since 'analyzer' is callable'\n",
      "  warnings.warn(\n",
      "C:\\conda\\Lib\\site-packages\\sklearn\\linear_model\\_logistic.py:1247: FutureWarning: 'multi_class' was deprecated in version 1.5 and will be removed in 1.7. From then on, it will always use 'multinomial'. Leave it to its default value to avoid this warning.\n",
      "  warnings.warn(\n",
      "C:\\conda\\Lib\\site-packages\\sklearn\\feature_extraction\\text.py:533: UserWarning: The parameter 'ngram_range' will not be used since 'analyzer' is callable'\n",
      "  warnings.warn(\n",
      "C:\\conda\\Lib\\site-packages\\sklearn\\linear_model\\_logistic.py:1247: FutureWarning: 'multi_class' was deprecated in version 1.5 and will be removed in 1.7. From then on, it will always use 'multinomial'. Leave it to its default value to avoid this warning.\n",
      "  warnings.warn(\n"
     ]
    }
   ],
   "source": [
    "kf = StratifiedKFold(n_splits=5, shuffle=True, random_state=42)\n",
    "X_text = train_df[\"full_text\"].to_numpy()\n",
    "meta_train = np.zeros((train_df.shape[0], 12), dtype=float)\n",
    "for train_idx, val_idx in kf.split(X_text, y_train):\n",
    "    X_tr, X_val = X_text[train_idx], X_text[val_idx]\n",
    "    y_tr = y_train[train_idx]\n",
    "    vectorizer = TfidfVectorizer(\n",
    "        max_features=20000,\n",
    "        sublinear_tf=True,\n",
    "        analyzer=spacy_tweet_analyzer,\n",
    "        ngram_range=(1, 2)\n",
    "    )\n",
    "    tfidf_tr = vectorizer.fit_transform(X_tr)\n",
    "    svd = TruncatedSVD(n_components=400, random_state=42)\n",
    "    svd_tr = svd.fit_transform(tfidf_tr)\n",
    "    tfidf_va = vectorizer.transform(X_val)\n",
    "    svd_va = svd.transform(tfidf_va)\n",
    "    for i, a_model in enumerate(model_sta):\n",
    "        a_model.fit(svd_tr, y_tr)\n",
    "        meta_train[val_idx, i*3:(i+1)*3] = a_model.predict_proba(svd_va)\n",
    "    clf_nb_s = ComplementNB(alpha=0.5)              \n",
    "    clf_nb_s.fit(tfidf_tr, y_tr)\n",
    "    meta_train[val_idx,  9:12] =  clf_nb_s.predict_proba(tfidf_va)"
   ]
  },
  {
   "cell_type": "code",
   "execution_count": 73,
   "id": "0ef7486d-9177-44c2-9488-0d877f9aefdc",
   "metadata": {},
   "outputs": [],
   "source": [
    "meta_val = np.zeros((val_df.shape[0], 12), dtype=float)\n",
    "meta_test = np.zeros((test_df.shape[0], 12), dtype=float)"
   ]
  },
  {
   "cell_type": "code",
   "execution_count": 74,
   "id": "37ad19e9-166f-417e-874a-13274f6a7b09",
   "metadata": {},
   "outputs": [],
   "source": [
    "model_sta_vt = [CatBoostClassifier(**best_params_cat),\n",
    "             XGBClassifier(**best_params_xgb),\n",
    "             LogisticRegression(multi_class='multinomial',solver='lbfgs',max_iter=2000,random_state=42)]"
   ]
  },
  {
   "cell_type": "code",
   "execution_count": 75,
   "id": "79ebad0e-491d-4f9c-8094-0abe3e48ad40",
   "metadata": {},
   "outputs": [
    {
     "name": "stderr",
     "output_type": "stream",
     "text": [
      "C:\\conda\\Lib\\site-packages\\sklearn\\linear_model\\_logistic.py:1247: FutureWarning: 'multi_class' was deprecated in version 1.5 and will be removed in 1.7. From then on, it will always use 'multinomial'. Leave it to its default value to avoid this warning.\n",
      "  warnings.warn(\n"
     ]
    }
   ],
   "source": [
    "for i, a_model in enumerate(model_sta_vt):\n",
    "    a_model.fit(svd_train, y_train)\n",
    "    meta_val[:,i*3:(i+1)*3] = a_model.predict_proba(svd_val)\n",
    "    meta_test[:,i*3:(i+1)*3] = a_model.predict_proba(svd_test)"
   ]
  },
  {
   "cell_type": "code",
   "execution_count": 76,
   "id": "a757cab1-1140-449a-829e-8d896df2a670",
   "metadata": {},
   "outputs": [],
   "source": [
    "clf_nb_svt = ComplementNB(alpha=0.5)              \n",
    "clf_nb_svt.fit(tfidf_train, y_train)\n",
    "meta_val[:,  9:12] =  clf_nb_svt.predict_proba(tfidf_val)\n",
    "meta_test[:,  9:12] =  clf_nb_svt.predict_proba(tfidf_test)"
   ]
  },
  {
   "cell_type": "code",
   "execution_count": 77,
   "id": "16d056ab-a94a-48bc-b0e8-efb736b0c052",
   "metadata": {},
   "outputs": [],
   "source": [
    "meta_model_2 = LogisticRegression(\n",
    "    multi_class='multinomial',\n",
    "    solver='lbfgs',\n",
    "    max_iter=2000,\n",
    "    random_state=42\n",
    ")"
   ]
  },
  {
   "cell_type": "code",
   "execution_count": 78,
   "id": "7e006bd1-c3b3-4fb8-a982-0ee6796ad9df",
   "metadata": {},
   "outputs": [
    {
     "name": "stderr",
     "output_type": "stream",
     "text": [
      "C:\\conda\\Lib\\site-packages\\sklearn\\linear_model\\_logistic.py:1247: FutureWarning: 'multi_class' was deprecated in version 1.5 and will be removed in 1.7. From then on, it will always use 'multinomial'. Leave it to its default value to avoid this warning.\n",
      "  warnings.warn(\n"
     ]
    },
    {
     "data": {
      "text/html": [
       "<style>#sk-container-id-3 {\n",
       "  /* Definition of color scheme common for light and dark mode */\n",
       "  --sklearn-color-text: #000;\n",
       "  --sklearn-color-text-muted: #666;\n",
       "  --sklearn-color-line: gray;\n",
       "  /* Definition of color scheme for unfitted estimators */\n",
       "  --sklearn-color-unfitted-level-0: #fff5e6;\n",
       "  --sklearn-color-unfitted-level-1: #f6e4d2;\n",
       "  --sklearn-color-unfitted-level-2: #ffe0b3;\n",
       "  --sklearn-color-unfitted-level-3: chocolate;\n",
       "  /* Definition of color scheme for fitted estimators */\n",
       "  --sklearn-color-fitted-level-0: #f0f8ff;\n",
       "  --sklearn-color-fitted-level-1: #d4ebff;\n",
       "  --sklearn-color-fitted-level-2: #b3dbfd;\n",
       "  --sklearn-color-fitted-level-3: cornflowerblue;\n",
       "\n",
       "  /* Specific color for light theme */\n",
       "  --sklearn-color-text-on-default-background: var(--sg-text-color, var(--theme-code-foreground, var(--jp-content-font-color1, black)));\n",
       "  --sklearn-color-background: var(--sg-background-color, var(--theme-background, var(--jp-layout-color0, white)));\n",
       "  --sklearn-color-border-box: var(--sg-text-color, var(--theme-code-foreground, var(--jp-content-font-color1, black)));\n",
       "  --sklearn-color-icon: #696969;\n",
       "\n",
       "  @media (prefers-color-scheme: dark) {\n",
       "    /* Redefinition of color scheme for dark theme */\n",
       "    --sklearn-color-text-on-default-background: var(--sg-text-color, var(--theme-code-foreground, var(--jp-content-font-color1, white)));\n",
       "    --sklearn-color-background: var(--sg-background-color, var(--theme-background, var(--jp-layout-color0, #111)));\n",
       "    --sklearn-color-border-box: var(--sg-text-color, var(--theme-code-foreground, var(--jp-content-font-color1, white)));\n",
       "    --sklearn-color-icon: #878787;\n",
       "  }\n",
       "}\n",
       "\n",
       "#sk-container-id-3 {\n",
       "  color: var(--sklearn-color-text);\n",
       "}\n",
       "\n",
       "#sk-container-id-3 pre {\n",
       "  padding: 0;\n",
       "}\n",
       "\n",
       "#sk-container-id-3 input.sk-hidden--visually {\n",
       "  border: 0;\n",
       "  clip: rect(1px 1px 1px 1px);\n",
       "  clip: rect(1px, 1px, 1px, 1px);\n",
       "  height: 1px;\n",
       "  margin: -1px;\n",
       "  overflow: hidden;\n",
       "  padding: 0;\n",
       "  position: absolute;\n",
       "  width: 1px;\n",
       "}\n",
       "\n",
       "#sk-container-id-3 div.sk-dashed-wrapped {\n",
       "  border: 1px dashed var(--sklearn-color-line);\n",
       "  margin: 0 0.4em 0.5em 0.4em;\n",
       "  box-sizing: border-box;\n",
       "  padding-bottom: 0.4em;\n",
       "  background-color: var(--sklearn-color-background);\n",
       "}\n",
       "\n",
       "#sk-container-id-3 div.sk-container {\n",
       "  /* jupyter's `normalize.less` sets `[hidden] { display: none; }`\n",
       "     but bootstrap.min.css set `[hidden] { display: none !important; }`\n",
       "     so we also need the `!important` here to be able to override the\n",
       "     default hidden behavior on the sphinx rendered scikit-learn.org.\n",
       "     See: https://github.com/scikit-learn/scikit-learn/issues/21755 */\n",
       "  display: inline-block !important;\n",
       "  position: relative;\n",
       "}\n",
       "\n",
       "#sk-container-id-3 div.sk-text-repr-fallback {\n",
       "  display: none;\n",
       "}\n",
       "\n",
       "div.sk-parallel-item,\n",
       "div.sk-serial,\n",
       "div.sk-item {\n",
       "  /* draw centered vertical line to link estimators */\n",
       "  background-image: linear-gradient(var(--sklearn-color-text-on-default-background), var(--sklearn-color-text-on-default-background));\n",
       "  background-size: 2px 100%;\n",
       "  background-repeat: no-repeat;\n",
       "  background-position: center center;\n",
       "}\n",
       "\n",
       "/* Parallel-specific style estimator block */\n",
       "\n",
       "#sk-container-id-3 div.sk-parallel-item::after {\n",
       "  content: \"\";\n",
       "  width: 100%;\n",
       "  border-bottom: 2px solid var(--sklearn-color-text-on-default-background);\n",
       "  flex-grow: 1;\n",
       "}\n",
       "\n",
       "#sk-container-id-3 div.sk-parallel {\n",
       "  display: flex;\n",
       "  align-items: stretch;\n",
       "  justify-content: center;\n",
       "  background-color: var(--sklearn-color-background);\n",
       "  position: relative;\n",
       "}\n",
       "\n",
       "#sk-container-id-3 div.sk-parallel-item {\n",
       "  display: flex;\n",
       "  flex-direction: column;\n",
       "}\n",
       "\n",
       "#sk-container-id-3 div.sk-parallel-item:first-child::after {\n",
       "  align-self: flex-end;\n",
       "  width: 50%;\n",
       "}\n",
       "\n",
       "#sk-container-id-3 div.sk-parallel-item:last-child::after {\n",
       "  align-self: flex-start;\n",
       "  width: 50%;\n",
       "}\n",
       "\n",
       "#sk-container-id-3 div.sk-parallel-item:only-child::after {\n",
       "  width: 0;\n",
       "}\n",
       "\n",
       "/* Serial-specific style estimator block */\n",
       "\n",
       "#sk-container-id-3 div.sk-serial {\n",
       "  display: flex;\n",
       "  flex-direction: column;\n",
       "  align-items: center;\n",
       "  background-color: var(--sklearn-color-background);\n",
       "  padding-right: 1em;\n",
       "  padding-left: 1em;\n",
       "}\n",
       "\n",
       "\n",
       "/* Toggleable style: style used for estimator/Pipeline/ColumnTransformer box that is\n",
       "clickable and can be expanded/collapsed.\n",
       "- Pipeline and ColumnTransformer use this feature and define the default style\n",
       "- Estimators will overwrite some part of the style using the `sk-estimator` class\n",
       "*/\n",
       "\n",
       "/* Pipeline and ColumnTransformer style (default) */\n",
       "\n",
       "#sk-container-id-3 div.sk-toggleable {\n",
       "  /* Default theme specific background. It is overwritten whether we have a\n",
       "  specific estimator or a Pipeline/ColumnTransformer */\n",
       "  background-color: var(--sklearn-color-background);\n",
       "}\n",
       "\n",
       "/* Toggleable label */\n",
       "#sk-container-id-3 label.sk-toggleable__label {\n",
       "  cursor: pointer;\n",
       "  display: flex;\n",
       "  width: 100%;\n",
       "  margin-bottom: 0;\n",
       "  padding: 0.5em;\n",
       "  box-sizing: border-box;\n",
       "  text-align: center;\n",
       "  align-items: start;\n",
       "  justify-content: space-between;\n",
       "  gap: 0.5em;\n",
       "}\n",
       "\n",
       "#sk-container-id-3 label.sk-toggleable__label .caption {\n",
       "  font-size: 0.6rem;\n",
       "  font-weight: lighter;\n",
       "  color: var(--sklearn-color-text-muted);\n",
       "}\n",
       "\n",
       "#sk-container-id-3 label.sk-toggleable__label-arrow:before {\n",
       "  /* Arrow on the left of the label */\n",
       "  content: \"▸\";\n",
       "  float: left;\n",
       "  margin-right: 0.25em;\n",
       "  color: var(--sklearn-color-icon);\n",
       "}\n",
       "\n",
       "#sk-container-id-3 label.sk-toggleable__label-arrow:hover:before {\n",
       "  color: var(--sklearn-color-text);\n",
       "}\n",
       "\n",
       "/* Toggleable content - dropdown */\n",
       "\n",
       "#sk-container-id-3 div.sk-toggleable__content {\n",
       "  max-height: 0;\n",
       "  max-width: 0;\n",
       "  overflow: hidden;\n",
       "  text-align: left;\n",
       "  /* unfitted */\n",
       "  background-color: var(--sklearn-color-unfitted-level-0);\n",
       "}\n",
       "\n",
       "#sk-container-id-3 div.sk-toggleable__content.fitted {\n",
       "  /* fitted */\n",
       "  background-color: var(--sklearn-color-fitted-level-0);\n",
       "}\n",
       "\n",
       "#sk-container-id-3 div.sk-toggleable__content pre {\n",
       "  margin: 0.2em;\n",
       "  border-radius: 0.25em;\n",
       "  color: var(--sklearn-color-text);\n",
       "  /* unfitted */\n",
       "  background-color: var(--sklearn-color-unfitted-level-0);\n",
       "}\n",
       "\n",
       "#sk-container-id-3 div.sk-toggleable__content.fitted pre {\n",
       "  /* unfitted */\n",
       "  background-color: var(--sklearn-color-fitted-level-0);\n",
       "}\n",
       "\n",
       "#sk-container-id-3 input.sk-toggleable__control:checked~div.sk-toggleable__content {\n",
       "  /* Expand drop-down */\n",
       "  max-height: 200px;\n",
       "  max-width: 100%;\n",
       "  overflow: auto;\n",
       "}\n",
       "\n",
       "#sk-container-id-3 input.sk-toggleable__control:checked~label.sk-toggleable__label-arrow:before {\n",
       "  content: \"▾\";\n",
       "}\n",
       "\n",
       "/* Pipeline/ColumnTransformer-specific style */\n",
       "\n",
       "#sk-container-id-3 div.sk-label input.sk-toggleable__control:checked~label.sk-toggleable__label {\n",
       "  color: var(--sklearn-color-text);\n",
       "  background-color: var(--sklearn-color-unfitted-level-2);\n",
       "}\n",
       "\n",
       "#sk-container-id-3 div.sk-label.fitted input.sk-toggleable__control:checked~label.sk-toggleable__label {\n",
       "  background-color: var(--sklearn-color-fitted-level-2);\n",
       "}\n",
       "\n",
       "/* Estimator-specific style */\n",
       "\n",
       "/* Colorize estimator box */\n",
       "#sk-container-id-3 div.sk-estimator input.sk-toggleable__control:checked~label.sk-toggleable__label {\n",
       "  /* unfitted */\n",
       "  background-color: var(--sklearn-color-unfitted-level-2);\n",
       "}\n",
       "\n",
       "#sk-container-id-3 div.sk-estimator.fitted input.sk-toggleable__control:checked~label.sk-toggleable__label {\n",
       "  /* fitted */\n",
       "  background-color: var(--sklearn-color-fitted-level-2);\n",
       "}\n",
       "\n",
       "#sk-container-id-3 div.sk-label label.sk-toggleable__label,\n",
       "#sk-container-id-3 div.sk-label label {\n",
       "  /* The background is the default theme color */\n",
       "  color: var(--sklearn-color-text-on-default-background);\n",
       "}\n",
       "\n",
       "/* On hover, darken the color of the background */\n",
       "#sk-container-id-3 div.sk-label:hover label.sk-toggleable__label {\n",
       "  color: var(--sklearn-color-text);\n",
       "  background-color: var(--sklearn-color-unfitted-level-2);\n",
       "}\n",
       "\n",
       "/* Label box, darken color on hover, fitted */\n",
       "#sk-container-id-3 div.sk-label.fitted:hover label.sk-toggleable__label.fitted {\n",
       "  color: var(--sklearn-color-text);\n",
       "  background-color: var(--sklearn-color-fitted-level-2);\n",
       "}\n",
       "\n",
       "/* Estimator label */\n",
       "\n",
       "#sk-container-id-3 div.sk-label label {\n",
       "  font-family: monospace;\n",
       "  font-weight: bold;\n",
       "  display: inline-block;\n",
       "  line-height: 1.2em;\n",
       "}\n",
       "\n",
       "#sk-container-id-3 div.sk-label-container {\n",
       "  text-align: center;\n",
       "}\n",
       "\n",
       "/* Estimator-specific */\n",
       "#sk-container-id-3 div.sk-estimator {\n",
       "  font-family: monospace;\n",
       "  border: 1px dotted var(--sklearn-color-border-box);\n",
       "  border-radius: 0.25em;\n",
       "  box-sizing: border-box;\n",
       "  margin-bottom: 0.5em;\n",
       "  /* unfitted */\n",
       "  background-color: var(--sklearn-color-unfitted-level-0);\n",
       "}\n",
       "\n",
       "#sk-container-id-3 div.sk-estimator.fitted {\n",
       "  /* fitted */\n",
       "  background-color: var(--sklearn-color-fitted-level-0);\n",
       "}\n",
       "\n",
       "/* on hover */\n",
       "#sk-container-id-3 div.sk-estimator:hover {\n",
       "  /* unfitted */\n",
       "  background-color: var(--sklearn-color-unfitted-level-2);\n",
       "}\n",
       "\n",
       "#sk-container-id-3 div.sk-estimator.fitted:hover {\n",
       "  /* fitted */\n",
       "  background-color: var(--sklearn-color-fitted-level-2);\n",
       "}\n",
       "\n",
       "/* Specification for estimator info (e.g. \"i\" and \"?\") */\n",
       "\n",
       "/* Common style for \"i\" and \"?\" */\n",
       "\n",
       ".sk-estimator-doc-link,\n",
       "a:link.sk-estimator-doc-link,\n",
       "a:visited.sk-estimator-doc-link {\n",
       "  float: right;\n",
       "  font-size: smaller;\n",
       "  line-height: 1em;\n",
       "  font-family: monospace;\n",
       "  background-color: var(--sklearn-color-background);\n",
       "  border-radius: 1em;\n",
       "  height: 1em;\n",
       "  width: 1em;\n",
       "  text-decoration: none !important;\n",
       "  margin-left: 0.5em;\n",
       "  text-align: center;\n",
       "  /* unfitted */\n",
       "  border: var(--sklearn-color-unfitted-level-1) 1pt solid;\n",
       "  color: var(--sklearn-color-unfitted-level-1);\n",
       "}\n",
       "\n",
       ".sk-estimator-doc-link.fitted,\n",
       "a:link.sk-estimator-doc-link.fitted,\n",
       "a:visited.sk-estimator-doc-link.fitted {\n",
       "  /* fitted */\n",
       "  border: var(--sklearn-color-fitted-level-1) 1pt solid;\n",
       "  color: var(--sklearn-color-fitted-level-1);\n",
       "}\n",
       "\n",
       "/* On hover */\n",
       "div.sk-estimator:hover .sk-estimator-doc-link:hover,\n",
       ".sk-estimator-doc-link:hover,\n",
       "div.sk-label-container:hover .sk-estimator-doc-link:hover,\n",
       ".sk-estimator-doc-link:hover {\n",
       "  /* unfitted */\n",
       "  background-color: var(--sklearn-color-unfitted-level-3);\n",
       "  color: var(--sklearn-color-background);\n",
       "  text-decoration: none;\n",
       "}\n",
       "\n",
       "div.sk-estimator.fitted:hover .sk-estimator-doc-link.fitted:hover,\n",
       ".sk-estimator-doc-link.fitted:hover,\n",
       "div.sk-label-container:hover .sk-estimator-doc-link.fitted:hover,\n",
       ".sk-estimator-doc-link.fitted:hover {\n",
       "  /* fitted */\n",
       "  background-color: var(--sklearn-color-fitted-level-3);\n",
       "  color: var(--sklearn-color-background);\n",
       "  text-decoration: none;\n",
       "}\n",
       "\n",
       "/* Span, style for the box shown on hovering the info icon */\n",
       ".sk-estimator-doc-link span {\n",
       "  display: none;\n",
       "  z-index: 9999;\n",
       "  position: relative;\n",
       "  font-weight: normal;\n",
       "  right: .2ex;\n",
       "  padding: .5ex;\n",
       "  margin: .5ex;\n",
       "  width: min-content;\n",
       "  min-width: 20ex;\n",
       "  max-width: 50ex;\n",
       "  color: var(--sklearn-color-text);\n",
       "  box-shadow: 2pt 2pt 4pt #999;\n",
       "  /* unfitted */\n",
       "  background: var(--sklearn-color-unfitted-level-0);\n",
       "  border: .5pt solid var(--sklearn-color-unfitted-level-3);\n",
       "}\n",
       "\n",
       ".sk-estimator-doc-link.fitted span {\n",
       "  /* fitted */\n",
       "  background: var(--sklearn-color-fitted-level-0);\n",
       "  border: var(--sklearn-color-fitted-level-3);\n",
       "}\n",
       "\n",
       ".sk-estimator-doc-link:hover span {\n",
       "  display: block;\n",
       "}\n",
       "\n",
       "/* \"?\"-specific style due to the `<a>` HTML tag */\n",
       "\n",
       "#sk-container-id-3 a.estimator_doc_link {\n",
       "  float: right;\n",
       "  font-size: 1rem;\n",
       "  line-height: 1em;\n",
       "  font-family: monospace;\n",
       "  background-color: var(--sklearn-color-background);\n",
       "  border-radius: 1rem;\n",
       "  height: 1rem;\n",
       "  width: 1rem;\n",
       "  text-decoration: none;\n",
       "  /* unfitted */\n",
       "  color: var(--sklearn-color-unfitted-level-1);\n",
       "  border: var(--sklearn-color-unfitted-level-1) 1pt solid;\n",
       "}\n",
       "\n",
       "#sk-container-id-3 a.estimator_doc_link.fitted {\n",
       "  /* fitted */\n",
       "  border: var(--sklearn-color-fitted-level-1) 1pt solid;\n",
       "  color: var(--sklearn-color-fitted-level-1);\n",
       "}\n",
       "\n",
       "/* On hover */\n",
       "#sk-container-id-3 a.estimator_doc_link:hover {\n",
       "  /* unfitted */\n",
       "  background-color: var(--sklearn-color-unfitted-level-3);\n",
       "  color: var(--sklearn-color-background);\n",
       "  text-decoration: none;\n",
       "}\n",
       "\n",
       "#sk-container-id-3 a.estimator_doc_link.fitted:hover {\n",
       "  /* fitted */\n",
       "  background-color: var(--sklearn-color-fitted-level-3);\n",
       "}\n",
       "</style><div id=\"sk-container-id-3\" class=\"sk-top-container\"><div class=\"sk-text-repr-fallback\"><pre>LogisticRegression(max_iter=2000, multi_class=&#x27;multinomial&#x27;, random_state=42)</pre><b>In a Jupyter environment, please rerun this cell to show the HTML representation or trust the notebook. <br />On GitHub, the HTML representation is unable to render, please try loading this page with nbviewer.org.</b></div><div class=\"sk-container\" hidden><div class=\"sk-item\"><div class=\"sk-estimator fitted sk-toggleable\"><input class=\"sk-toggleable__control sk-hidden--visually\" id=\"sk-estimator-id-3\" type=\"checkbox\" checked><label for=\"sk-estimator-id-3\" class=\"sk-toggleable__label fitted sk-toggleable__label-arrow\"><div><div>LogisticRegression</div></div><div><a class=\"sk-estimator-doc-link fitted\" rel=\"noreferrer\" target=\"_blank\" href=\"https://scikit-learn.org/1.6/modules/generated/sklearn.linear_model.LogisticRegression.html\">?<span>Documentation for LogisticRegression</span></a><span class=\"sk-estimator-doc-link fitted\">i<span>Fitted</span></span></div></label><div class=\"sk-toggleable__content fitted\"><pre>LogisticRegression(max_iter=2000, multi_class=&#x27;multinomial&#x27;, random_state=42)</pre></div> </div></div></div></div>"
      ],
      "text/plain": [
       "LogisticRegression(max_iter=2000, multi_class='multinomial', random_state=42)"
      ]
     },
     "execution_count": 78,
     "metadata": {},
     "output_type": "execute_result"
    }
   ],
   "source": [
    "meta_model_2.fit(meta_train, y_train)"
   ]
  },
  {
   "cell_type": "code",
   "execution_count": 79,
   "id": "cf080733-0d2c-4564-8cdf-e6db83807a5a",
   "metadata": {},
   "outputs": [
    {
     "data": {
      "text/plain": [
       "0.9101066803371006"
      ]
     },
     "execution_count": 79,
     "metadata": {},
     "output_type": "execute_result"
    }
   ],
   "source": [
    "f1_score(y_val, meta_model_2.predict(meta_val), average='macro')"
   ]
  },
  {
   "cell_type": "code",
   "execution_count": 80,
   "id": "34234522-51c9-4c65-b8ef-65ab7055fb3e",
   "metadata": {},
   "outputs": [
    {
     "data": {
      "text/plain": [
       "0.9770118149204366"
      ]
     },
     "execution_count": 80,
     "metadata": {},
     "output_type": "execute_result"
    }
   ],
   "source": [
    "f1_score(y_test, meta_model_2.predict(meta_test), average='macro')"
   ]
  },
  {
   "cell_type": "markdown",
   "id": "848c595f-9a61-41a6-b48f-fcc42e3a63ad",
   "metadata": {},
   "source": [
    "## Final results"
   ]
  },
  {
   "cell_type": "code",
   "execution_count": 92,
   "id": "0e355431-f14f-4511-bd45-24bf24be727d",
   "metadata": {},
   "outputs": [],
   "source": [
    "f1_train = []\n",
    "f1_val = []\n",
    "f1_test = []\n",
    "for a_model in [cat_clf, xgb_clf, clf_lr]:\n",
    "    f1_train.append(f1_score(y_train, a_model.predict(svd_train), average='macro'))\n",
    "    f1_val.append(f1_score(y_val, a_model.predict(svd_val), average='macro'))\n",
    "    f1_test.append(f1_score(y_test, a_model.predict(svd_test), average='macro'))\n",
    "    \n",
    "f1_train.append(f1_score(y_train, clf_nb.predict(tfidf_train), average='macro'))\n",
    "f1_val.append(f1_score(y_val, clf_nb.predict(tfidf_val), average='macro'))\n",
    "f1_test.append(f1_score(y_test, clf_nb.predict(tfidf_test), average='macro'))\n",
    "f1_train.append(f1_score(y_train, bert_predictions_train, average='macro'))\n",
    "f1_val.append(f1_score(y_val, bert_predictions_val, average='macro'))\n",
    "f1_test.append(f1_score(y_test, bert_predictions_test, average='macro'))"
   ]
  },
  {
   "cell_type": "code",
   "execution_count": 94,
   "id": "19402fae-b09d-42e1-a967-9d0d9c431cf3",
   "metadata": {},
   "outputs": [],
   "source": [
    "f1_train.append(f1_score(y_train, meta_model.predict(train_df_end), average='macro'))\n",
    "f1_val.append(f1_score(y_val, meta_model.predict(val_df_end), average='macro'))\n",
    "f1_test.append(f1_score(y_test, meta_model.predict(test_df_end), average='macro'))"
   ]
  },
  {
   "cell_type": "code",
   "execution_count": 95,
   "id": "5bd5a539-2755-4f5e-9c92-e93d4ee6bac8",
   "metadata": {},
   "outputs": [],
   "source": [
    "f1_train.append(f1_score(y_train, meta_model_2.predict(meta_train), average='macro'))\n",
    "f1_val.append(f1_score(y_val, meta_model_2.predict(meta_val), average='macro'))\n",
    "f1_test.append(f1_score(y_test, meta_model_2.predict(meta_test), average='macro'))"
   ]
  },
  {
   "cell_type": "code",
   "execution_count": 97,
   "id": "20effa95-d851-4e4f-8c1a-16fdd23c25ab",
   "metadata": {},
   "outputs": [],
   "source": [
    "df_res = pd.DataFrame({\"Модели\": [\"CatBoostClassifier\", \"XGBClassifier\", \"LogisticRegression\", \"ComplementNB\", \"Bert\", \"Meta model(над всеми)\", \"Стакинг(без берта)\"]\n",
    "            , \"F1_train\": f1_train\n",
    "            , \"F1_val\": f1_val\n",
    "            , \"F1_test\": f1_test\n",
    "             })"
   ]
  },
  {
   "cell_type": "code",
   "execution_count": 98,
   "id": "a8871a40-de8a-42f4-93dc-454e3d51ffb4",
   "metadata": {},
   "outputs": [
    {
     "data": {
      "text/html": [
       "<style type=\"text/css\">\n",
       "#T_d1f26_row5_col1, #T_d1f26_row5_col2, #T_d1f26_row5_col3 {\n",
       "  background-color: palegreen;\n",
       "}\n",
       "</style>\n",
       "<table id=\"T_d1f26\">\n",
       "  <thead>\n",
       "    <tr>\n",
       "      <th class=\"blank level0\" >&nbsp;</th>\n",
       "      <th id=\"T_d1f26_level0_col0\" class=\"col_heading level0 col0\" >Модели</th>\n",
       "      <th id=\"T_d1f26_level0_col1\" class=\"col_heading level0 col1\" >F1_train</th>\n",
       "      <th id=\"T_d1f26_level0_col2\" class=\"col_heading level0 col2\" >F1_val</th>\n",
       "      <th id=\"T_d1f26_level0_col3\" class=\"col_heading level0 col3\" >F1_test</th>\n",
       "    </tr>\n",
       "  </thead>\n",
       "  <tbody>\n",
       "    <tr>\n",
       "      <th id=\"T_d1f26_level0_row0\" class=\"row_heading level0 row0\" >0</th>\n",
       "      <td id=\"T_d1f26_row0_col0\" class=\"data row0 col0\" >CatBoostClassifier</td>\n",
       "      <td id=\"T_d1f26_row0_col1\" class=\"data row0 col1\" >0.976728</td>\n",
       "      <td id=\"T_d1f26_row0_col2\" class=\"data row0 col2\" >0.833725</td>\n",
       "      <td id=\"T_d1f26_row0_col3\" class=\"data row0 col3\" >0.961325</td>\n",
       "    </tr>\n",
       "    <tr>\n",
       "      <th id=\"T_d1f26_level0_row1\" class=\"row_heading level0 row1\" >1</th>\n",
       "      <td id=\"T_d1f26_row1_col0\" class=\"data row1 col0\" >XGBClassifier</td>\n",
       "      <td id=\"T_d1f26_row1_col1\" class=\"data row1 col1\" >0.983492</td>\n",
       "      <td id=\"T_d1f26_row1_col2\" class=\"data row1 col2\" >0.878912</td>\n",
       "      <td id=\"T_d1f26_row1_col3\" class=\"data row1 col3\" >0.970076</td>\n",
       "    </tr>\n",
       "    <tr>\n",
       "      <th id=\"T_d1f26_level0_row2\" class=\"row_heading level0 row2\" >2</th>\n",
       "      <td id=\"T_d1f26_row2_col0\" class=\"data row2 col0\" >LogisticRegression</td>\n",
       "      <td id=\"T_d1f26_row2_col1\" class=\"data row2 col1\" >0.620242</td>\n",
       "      <td id=\"T_d1f26_row2_col2\" class=\"data row2 col2\" >0.614788</td>\n",
       "      <td id=\"T_d1f26_row2_col3\" class=\"data row2 col3\" >0.653057</td>\n",
       "    </tr>\n",
       "    <tr>\n",
       "      <th id=\"T_d1f26_level0_row3\" class=\"row_heading level0 row3\" >3</th>\n",
       "      <td id=\"T_d1f26_row3_col0\" class=\"data row3 col0\" >ComplementNB</td>\n",
       "      <td id=\"T_d1f26_row3_col1\" class=\"data row3 col1\" >0.802316</td>\n",
       "      <td id=\"T_d1f26_row3_col2\" class=\"data row3 col2\" >0.761492</td>\n",
       "      <td id=\"T_d1f26_row3_col3\" class=\"data row3 col3\" >0.817077</td>\n",
       "    </tr>\n",
       "    <tr>\n",
       "      <th id=\"T_d1f26_level0_row4\" class=\"row_heading level0 row4\" >4</th>\n",
       "      <td id=\"T_d1f26_row4_col0\" class=\"data row4 col0\" >Bert</td>\n",
       "      <td id=\"T_d1f26_row4_col1\" class=\"data row4 col1\" >0.982866</td>\n",
       "      <td id=\"T_d1f26_row4_col2\" class=\"data row4 col2\" >0.936804</td>\n",
       "      <td id=\"T_d1f26_row4_col3\" class=\"data row4 col3\" >0.975663</td>\n",
       "    </tr>\n",
       "    <tr>\n",
       "      <th id=\"T_d1f26_level0_row5\" class=\"row_heading level0 row5\" >5</th>\n",
       "      <td id=\"T_d1f26_row5_col0\" class=\"data row5 col0\" >Meta model(над всеми)</td>\n",
       "      <td id=\"T_d1f26_row5_col1\" class=\"data row5 col1\" >0.988229</td>\n",
       "      <td id=\"T_d1f26_row5_col2\" class=\"data row5 col2\" >0.943481</td>\n",
       "      <td id=\"T_d1f26_row5_col3\" class=\"data row5 col3\" >0.985892</td>\n",
       "    </tr>\n",
       "    <tr>\n",
       "      <th id=\"T_d1f26_level0_row6\" class=\"row_heading level0 row6\" >6</th>\n",
       "      <td id=\"T_d1f26_row6_col0\" class=\"data row6 col0\" >Стакинг(без берта)</td>\n",
       "      <td id=\"T_d1f26_row6_col1\" class=\"data row6 col1\" >0.895150</td>\n",
       "      <td id=\"T_d1f26_row6_col2\" class=\"data row6 col2\" >0.910107</td>\n",
       "      <td id=\"T_d1f26_row6_col3\" class=\"data row6 col3\" >0.977012</td>\n",
       "    </tr>\n",
       "  </tbody>\n",
       "</table>\n"
      ],
      "text/plain": [
       "<pandas.io.formats.style.Styler at 0x2daaf914ad0>"
      ]
     },
     "execution_count": 98,
     "metadata": {},
     "output_type": "execute_result"
    }
   ],
   "source": [
    "df_res.style.highlight_max(subset= ['F1_train', 'F1_val', \"F1_test\"], axis=0, color='palegreen')"
   ]
  },
  {
   "cell_type": "code",
   "execution_count": null,
   "id": "047c4887-0232-4e0e-9264-c0b4c161cb22",
   "metadata": {},
   "outputs": [],
   "source": []
  }
 ],
 "metadata": {
  "kernelspec": {
   "display_name": "Python 3 (ipykernel)",
   "language": "python",
   "name": "python3"
  },
  "language_info": {
   "codemirror_mode": {
    "name": "ipython",
    "version": 3
   },
   "file_extension": ".py",
   "mimetype": "text/x-python",
   "name": "python",
   "nbconvert_exporter": "python",
   "pygments_lexer": "ipython3",
   "version": "3.13.5"
  }
 },
 "nbformat": 4,
 "nbformat_minor": 5
}
